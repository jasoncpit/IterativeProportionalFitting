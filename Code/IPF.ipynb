{
 "cells": [
  {
   "cell_type": "markdown",
   "metadata": {},
   "source": [
    "## Import Library"
   ]
  },
  {
   "cell_type": "code",
   "execution_count": 2,
   "metadata": {},
   "outputs": [],
   "source": [
    "import pandas as pd \n",
    "import numpy as np\n",
    "import matplotlib.pyplot as plt"
   ]
  },
  {
   "cell_type": "markdown",
   "metadata": {},
   "source": [
    "## Import data "
   ]
  },
  {
   "cell_type": "code",
   "execution_count": 3,
   "metadata": {},
   "outputs": [],
   "source": [
    "ind_cat = pd.read_csv(\"/Users/jasontang/desktop/IterativeProportionalFitting/Data/Sheffield/ind_cat.csv\",index_col=False) \n",
    "cons = pd.read_csv(\"/Users/jasontang/desktop/IterativeProportionalFitting/Data/Sheffield/cons.csv\",index_col=False) \n",
    "allsim = pd.read_csv(\"/Users/jasontang/desktop/IterativeProportionalFitting/Data/Sheffield/allmsim.csv\",index_col=False) \n",
    "allsim = pd.DataFrame(allsim).iloc[:,1:]\n",
    "ind_matrix = ind_cat.transpose().values.tolist()\n",
    "cons_matrix = cons.values.tolist()\n",
    "allsim_matrix = allsim.values.tolist()"
   ]
  },
  {
   "cell_type": "markdown",
   "metadata": {},
   "source": [
    "## Iterative Proportional Fittings"
   ]
  },
  {
   "cell_type": "code",
   "execution_count": null,
   "metadata": {},
   "outputs": [],
   "source": [
    "def IPF(X,Y,max_iteration):\n",
    "    \n",
    "    iteration = 0 \n",
    "    \n",
    "    weight = [1]*len(X[0])\n",
    "\n",
    "\n",
    "    while iteration < max_iteration: \n",
    "        #Setting initial weight -> assuming weight are the same for \n",
    "        #each individual in an area \n",
    "\n",
    "        #K = 1....N(C)\n",
    "        #N(C) the total number of constraints \n",
    "        #Target table \n",
    "        for k in range(len(Y)):\n",
    "\n",
    "            #Ti_KM\n",
    "            #in which the binary variable δjkm takes the value of one if cjk = m, \n",
    "            #and zero otherwise. In order to compare the modelled and observed distributions, a variety of goodness of fit measures could be employed, but typically the most useful will be the total absolute error statistic:\n",
    "            X_new = pd.DataFrame(np.multiply(weight,X[k])).sum(axis=1)\n",
    "\n",
    "            for i in range(len(X[k])):\n",
    "\n",
    "                if X[k][i] == 1:\n",
    "\n",
    "                    weight[i] = weight[i]*Y[k]/sum(X_new)\n",
    "\n",
    "                else: \n",
    "\n",
    "                    weight[i] = weight[i]\n",
    "\n",
    "        Ti_km = pd.DataFrame(np.multiply(weight,X)).sum(axis=1)\n",
    "\n",
    "        TAE = sum(abs(Y - Ti_km))\n",
    "\n",
    "        iteration += 1 \n",
    "        \n",
    "        print(weight,Ti_km,TAE)\n",
    "\n",
    "        if (iteration == max_iteration):\n",
    "            \n",
    "            return(abs(TAE),weight)\n",
    "\n",
    "            break\n",
    "\n",
    "    #print(X_new)\n",
    "    \n",
    "    "
   ]
  },
  {
   "cell_type": "code",
   "execution_count": 1,
   "metadata": {},
   "outputs": [
    {
     "ename": "NameError",
     "evalue": "name 'IPF' is not defined",
     "output_type": "error",
     "traceback": [
      "\u001b[0;31m---------------------------------------------------------------------------\u001b[0m",
      "\u001b[0;31mNameError\u001b[0m                                 Traceback (most recent call last)",
      "\u001b[0;32m<ipython-input-1-853ea34bf91b>\u001b[0m in \u001b[0;36m<module>\u001b[0;34m\u001b[0m\n\u001b[0;32m----> 1\u001b[0;31m \u001b[0mIPF\u001b[0m\u001b[0;34m(\u001b[0m\u001b[0mind_matrix\u001b[0m\u001b[0;34m,\u001b[0m\u001b[0mallsim_matrix\u001b[0m\u001b[0;34m[\u001b[0m\u001b[0;36m0\u001b[0m\u001b[0;34m]\u001b[0m\u001b[0;34m,\u001b[0m\u001b[0;36m1\u001b[0m\u001b[0;34m)\u001b[0m\u001b[0;34m\u001b[0m\u001b[0;34m\u001b[0m\u001b[0m\n\u001b[0m",
      "\u001b[0;31mNameError\u001b[0m: name 'IPF' is not defined"
     ]
    }
   ],
   "source": [
    "IPF(ind_matrix,allsim_matrix[0],1)"
   ]
  },
  {
   "cell_type": "code",
   "execution_count": 6,
   "metadata": {},
   "outputs": [],
   "source": [
    "#Return a complete weight matrix for each constraints and for each area based on the iteration with the smallest TAE\n",
    "def IPF_all(X,Y):\n",
    "    \n",
    "    area_weight = []\n",
    "    \n",
    "    TAE = []\n",
    "    \n",
    "    for i in range(len(Y)):\n",
    "        \n",
    "        result = IPF(X,Y[i],5)\n",
    "        \n",
    "        area_weight.append(result[1])\n",
    "        \n",
    "        TAE.append(result[0])\n",
    "        \n",
    "        print(\"Area \" + str(i) + \" done!\",TAE)\n",
    "        \n",
    "    return(area_weight,TAE)"
   ]
  },
  {
   "cell_type": "code",
   "execution_count": null,
   "metadata": {},
   "outputs": [],
   "source": [
    "ind_agg_ipf = IPF_all(ind_matrix,allsim_matrix)"
   ]
  }
 ],
 "metadata": {
  "kernelspec": {
   "display_name": "Python 3",
   "language": "python",
   "name": "python3"
  },
  "language_info": {
   "codemirror_mode": {
    "name": "ipython",
    "version": 3
   },
   "file_extension": ".py",
   "mimetype": "text/x-python",
   "name": "python",
   "nbconvert_exporter": "python",
   "pygments_lexer": "ipython3",
   "version": "3.7.3"
  }
 },
 "nbformat": 4,
 "nbformat_minor": 2
}
