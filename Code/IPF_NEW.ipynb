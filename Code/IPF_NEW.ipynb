{
 "cells": [
  {
   "cell_type": "code",
   "execution_count": 3,
   "metadata": {},
   "outputs": [],
   "source": [
    "import pandas as pd \n",
    "import numpy as np"
   ]
  },
  {
   "cell_type": "code",
   "execution_count": 4,
   "metadata": {},
   "outputs": [
    {
     "name": "stdout",
     "output_type": "stream",
     "text": [
      "   age sex Energydrink_consumption\n",
      "0   59   F                       3\n",
      "1   54   F                       4\n",
      "2   35   F                       5\n",
      "3   73   F                       6\n",
      "4   49   F                       7\n",
      "5   30   F                       1\n"
     ]
    }
   ],
   "source": [
    "#Set up fake data for individuals \n",
    "#age: the age of individual \n",
    "#sex: the sex of individual F:Female M:Male \n",
    "#Energydrink_consumption:Energy_drink consumption per week \n",
    "\n",
    "#Create list\n",
    "IND = {\"age\":[\"59\",\"54\",\"35\",\"73\",\"49\",\"30\"],\n",
    "      \"sex\":[\"F\",\"F\",\"F\",\"F\",\"F\",\"F\"],\n",
    "      \"Energydrink_consumption\":[\"3\",\"4\",\"5\",\"6\",\"7\",\"1\"]}\n",
    "\n",
    "#Create dataframe \n",
    "IND = pd.DataFrame(IND)\n",
    "\n",
    "#Let age to become a numerical value\n",
    "IND[\"age\"] = IND[\"age\"].apply(pd.to_numeric)\n",
    "\n",
    "print(IND)"
   ]
  },
  {
   "cell_type": "code",
   "execution_count": 5,
   "metadata": {},
   "outputs": [
    {
     "name": "stdout",
     "output_type": "stream",
     "text": [
      "[[0, 0, 1, 0, 1, 1], [1, 1, 0, 1, 0, 0], [0, 0, 0, 0, 0, 0], [1, 1, 1, 1, 1, 1]]\n"
     ]
    }
   ],
   "source": [
    "#Create aggreagted lists \n",
    "\n",
    "#Create emptylist based on constraints \n",
    "Under50 = []\n",
    "Over50 = []\n",
    "M = []\n",
    "F = []\n",
    "\n",
    "#For loop for each constraints -> binary outputs\n",
    "for i in range(len(IND)):\n",
    "    \n",
    "    if IND.loc[i,\"age\"] < 50: \n",
    "            Under50.append(1)\n",
    "            Over50.append(0)\n",
    "\n",
    "    elif IND.loc[i,\"age\"] > 50: \n",
    "            Under50.append(0)\n",
    "            Over50.append(1)\n",
    "\n",
    "for i in range(len(IND)):\n",
    "\n",
    "    if IND.loc[i,\"sex\"] == \"M\": \n",
    "            M.append(1)\n",
    "            F.append(0)\n",
    "            \n",
    "    elif IND.loc[i,\"sex\"] == \"F\": \n",
    "            M.append(0)\n",
    "            F.append(1)\n",
    "            \n",
    "        \n",
    "#Combine all lists \n",
    "IND_Agg =[Under50,Over50,M,F]\n",
    "\n",
    "print(IND_Agg)\n"
   ]
  },
  {
   "cell_type": "code",
   "execution_count": 6,
   "metadata": {},
   "outputs": [
    {
     "name": "stdout",
     "output_type": "stream",
     "text": [
      "[[8, 4, 2, 10], [3, 3, 0, 6], [8000, 4000, 2000, 10000]]\n"
     ]
    }
   ],
   "source": [
    "#set up fake constraints \n",
    "\n",
    "#CONS = {\"Under50\":[\"8\"],\"Over50\": [\"4\"],\"M\" : [\"6\"],\"F\" : [\"6\"]}\n",
    "#CONS = pd.DataFrame(CONS) \n",
    "#for col in CONS: \n",
    "#    CONS[col] = CONS[col].apply(pd.to_numeric)\n",
    "\n",
    "CONS = [[8,4,2,10],[3,3,0,6],[8000,4000,2000,10000]]\n",
    "\n",
    "print(CONS)"
   ]
  },
  {
   "cell_type": "code",
   "execution_count": 47,
   "metadata": {},
   "outputs": [],
   "source": [
    "#Main IPF Algorithmn\n",
    "\n",
    "#weight = [1,1,1,1,1,1]\n",
    "\n",
    "def IPF(X,Y):\n",
    "    \n",
    "    weight = [1]*len(X[0])\n",
    "\n",
    "    for k in range(len(Y)):\n",
    "        \n",
    "        X_new = np.multiply(weight,X[k])\n",
    "        \n",
    "        for i in range(len(X[k])):\n",
    "            \n",
    "            if X[k][i] == 1:\n",
    "                \n",
    "                weight[i] = weight[i]*Y[k]/sum(X_new)\n",
    "                \n",
    "            else: \n",
    "                \n",
    "                weight[i] = weight[i]\n",
    "                \n",
    "    #return(weight)\n",
    "    \n",
    "    #print(\"Iteration \" + str(k))\n",
    "    \n",
    "    TAE = Y[k] - sum(X_new) \n",
    "    \n",
    "    return(TAE,weight)\n",
    "    #print(X_new)\n",
    "   \n",
    "   \n",
    "            "
   ]
  },
  {
   "cell_type": "code",
   "execution_count": 36,
   "metadata": {},
   "outputs": [],
   "source": [
    "# Create permutations function of a given list -> Perhaps use the build in function from the iterativetools -> this basically calculates all the combinations \n",
    "def permutation(lst): \n",
    "  \n",
    "    # If lst is empty then there are no permutations \n",
    "    if len(lst) == 0: \n",
    "        return [] \n",
    "  \n",
    "    # If there is only one element in lst then, only \n",
    "    # one permuatation is possible \n",
    "    if len(lst) == 1: \n",
    "        return [lst] \n",
    "  \n",
    "    # Find the permutations for lst if there are \n",
    "    # more than 1 characters \n",
    "  \n",
    "    l = [] # empty list that will store current permutation \n",
    "  \n",
    "    # Iterate the input(lst) and calculate the permutation \n",
    "    for i in range(len(lst)): \n",
    "        \n",
    "       m = lst[i] \n",
    "  \n",
    "       # Extract lst[i] or m from the list.  remLst is \n",
    "       # remaining list \n",
    "       remLst = lst[:i] + lst[i+1:] \n",
    "  \n",
    "       # Generating all permutations where m is first \n",
    "       # element \n",
    "       for p in permutation(remLst): \n",
    "           l.append([m] + p) \n",
    "    return l "
   ]
  },
  {
   "cell_type": "code",
   "execution_count": 37,
   "metadata": {},
   "outputs": [],
   "source": [
    "#IPF2 - iteration all possible permutations -> find the best iteration with the smallest TAE\n",
    "\n",
    "def IPF2(X,Y,max_iteration = 1):\n",
    "    \n",
    "    #Number of iteration for each permutation order \n",
    "    \n",
    "    iteration = 0 \n",
    "    \n",
    "    smallest = 1000000\n",
    "    \n",
    "    smallest_iteration = 11\n",
    "    \n",
    "    #Generate all possible permutation for individual data \n",
    "    perm = permutation(X)\n",
    "    \n",
    "    #Generate all possible permutation for Constraint data \n",
    "    perm2 = permutation(Y)\n",
    "    \n",
    "    #While statement that loop through all iteration till it achieves max_iteration\n",
    "    while iteration < max_iteration: \n",
    "        \n",
    "        #Generate new individual data for each iteration \n",
    "        #For example, the first iteration has the following order: M, <50, F, >50 \n",
    "        X_new = perm[iteration]\n",
    "\n",
    "        #Generate new Constraints data for each iteration \n",
    "        #For example, the first iteration has the following order: M, <50, F, >50\n",
    "        Y_new = perm2[iteration]\n",
    "        \n",
    "        #Note: The variables order of constraint and individual should be the same\n",
    "        \n",
    "        \n",
    "        print(\"Iteration: \" + str(iteration))\n",
    "        \n",
    "        Result = IPF(X_new,Y_new)\n",
    "        \n",
    "        TAE = Result[0]\n",
    "        \n",
    "        Weight = Result[1]\n",
    "        #print(TAE)\n",
    "        \n",
    "        iteration += 1 \n",
    "        \n",
    "        if smallest > abs(TAE):\n",
    "            \n",
    "            smallest = abs(TAE)\n",
    "            \n",
    "            smallest_iteration = iteration \n",
    "            \n",
    "            final_weight = Weight\n",
    "            \n",
    "    print(\"Converged! Smallest TAE: \" + str(smallest) + \" \" + \"at iteration: \" + str(smallest_iteration))\n",
    "\n",
    "    return(final_weight)\n",
    "    \n",
    "            \n",
    "#IPF2(IND_Agg,CONS,max_iteration = 24) "
   ]
  },
  {
   "cell_type": "code",
   "execution_count": 38,
   "metadata": {},
   "outputs": [],
   "source": [
    "#Return a complete weight matrix for each constraints and for each area based on the iteration with the smallest TAE\n",
    "def IPF3(X,Y,Z = 1):\n",
    "    \n",
    "    area_weight = []\n",
    "    \n",
    "    for i in range(len(Y)):\n",
    "        \n",
    "        weight = IPF2(X,Y[i],max_iteration = Z)\n",
    "        \n",
    "        area_weight.append(weight)\n",
    "        \n",
    "    return(area_weight)\n",
    "        \n",
    "\n",
    "#a =  IPF3(IND_Agg,CONS,24)\n",
    "#print(a)"
   ]
  },
  {
   "cell_type": "code",
   "execution_count": 39,
   "metadata": {},
   "outputs": [],
   "source": [
    "#Testing the new algorithm on real data\n",
    "\n",
    "#import all data \n",
    "ind = pd.read_csv(\"C:/Users/44749/Desktop/IterativeProportionalFitting-Test/ind.csv\",index_col=False) \n",
    "cons = pd.read_csv(\"C:/Users/44749/Desktop/IterativeProportionalFitting-Test/cons.csv\") \n",
    "\n",
    "ind_list = ind.iloc[:,1:].values.tolist()\n",
    "cons_list = cons.iloc[:,1:].values.tolist()\n",
    "#len(ind_list[0])\n",
    "#len(cons_list[0])\n"
   ]
  },
  {
   "cell_type": "code",
   "execution_count": 40,
   "metadata": {},
   "outputs": [
    {
     "data": {
      "text/plain": [
       "13"
      ]
     },
     "execution_count": 40,
     "metadata": {},
     "output_type": "execute_result"
    }
   ],
   "source": [
    "#Reformat individual data \n",
    "newlist = []\n",
    "for x in range(len(cons_list[0])):\n",
    "    \n",
    "    innerlist = []\n",
    "    \n",
    "    for y in range(len(ind_list)):\n",
    "        \n",
    "        innerlist.append(ind_list[y][x])\n",
    "        \n",
    "    newlist.append(innerlist)\n",
    "\n",
    "len(newlist)"
   ]
  },
  {
   "cell_type": "code",
   "execution_count": 85,
   "metadata": {},
   "outputs": [
    {
     "name": "stderr",
     "output_type": "stream",
     "text": [
      "Test: 100% |||||||||||||||||||||||||||||||||||||||||| Time: 1:26:33   0.06  B/s\n"
     ]
    }
   ],
   "source": [
    "#Performing 1st IPF algorithm on the data \n",
    "\n",
    "area_weight = []\n",
    "\n",
    "widgets = ['Test: ', Percentage(), ' ', Bar(marker=RotatingMarker()),\n",
    "               ' ', ETA(), ' ', FileTransferSpeed()]\n",
    "\n",
    "pbar = ProgressBar(widgets=widgets,maxval=len(cons_list)).start()\n",
    "\n",
    "for i in range(len(cons_list)):\n",
    "    \n",
    "    result = IPF(newlist,cons_list[i])\n",
    "    \n",
    "    area_weight.append(result[1])\n",
    "    \n",
    "    pbar.update(i+1)\n",
    "\n",
    "pbar.finish()\n",
    "\n",
    "\n"
   ]
  },
  {
   "cell_type": "code",
   "execution_count": 1,
   "metadata": {},
   "outputs": [],
   "source": [
    "#area_weight"
   ]
  },
  {
   "cell_type": "code",
   "execution_count": 2,
   "metadata": {},
   "outputs": [
    {
     "name": "stdout",
     "output_type": "stream",
     "text": [
      "ERROR: unknown command \"ProgressBar\"\n",
      "Note: you may need to restart the kernel to use updated packages.\n"
     ]
    }
   ],
   "source": [
    "pip ProgressBar"
   ]
  }
 ],
 "metadata": {
  "kernelspec": {
   "display_name": "Python 3",
   "language": "python",
   "name": "python3"
  },
  "language_info": {
   "codemirror_mode": {
    "name": "ipython",
    "version": 3
   },
   "file_extension": ".py",
   "mimetype": "text/x-python",
   "name": "python",
   "nbconvert_exporter": "python",
   "pygments_lexer": "ipython3",
   "version": "3.7.3"
  }
 },
 "nbformat": 4,
 "nbformat_minor": 4
}
