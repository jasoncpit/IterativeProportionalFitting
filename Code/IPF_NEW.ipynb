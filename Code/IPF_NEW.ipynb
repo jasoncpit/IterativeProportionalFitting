{
 "cells": [
  {
   "cell_type": "code",
   "execution_count": 16,
   "metadata": {},
   "outputs": [],
   "source": [
    "import pandas as pd \n",
    "import numpy as np"
   ]
  },
  {
   "cell_type": "code",
   "execution_count": 334,
   "metadata": {},
   "outputs": [
    {
     "name": "stdout",
     "output_type": "stream",
     "text": [
      "    age sex Energydrink_consumption\n",
      "0    59   F                       3\n",
      "1    54   F                       4\n",
      "2    35   F                       5\n",
      "3    73   F                       6\n",
      "4    49   F                       7\n",
      "5    30   F                       1\n",
      "6    59   M                       3\n",
      "7    54   M                       4\n",
      "8    35   M                       5\n",
      "9    73   M                       6\n",
      "10   49   M                       7\n",
      "11   30   M                       1\n"
     ]
    }
   ],
   "source": [
    "#Set up fake data for individuals \n",
    "#age: the age of individual \n",
    "#sex: the sex of individual F:Female M:Male \n",
    "#Energydrink_consumption:Energy_drink consumption per week \n",
    "\n",
    "#Create list\n",
    "IND = {\"age\":[\"59\",\"54\",\"35\",\"73\",\"49\",\"30\",\"59\",\"54\",\"35\",\"73\",\"49\",\"30\"],\n",
    "      \"sex\":[\"F\",\"F\",\"F\",\"F\",\"F\",\"F\",\"M\",\"M\",\"M\",\"M\",\"M\",\"M\"],\n",
    "      \"Energydrink_consumption\":[\"3\",\"4\",\"5\",\"6\",\"7\",\"1\",\"3\",\"4\",\"5\",\"6\",\"7\",\"1\"]}\n",
    "\n",
    "#Create dataframe \n",
    "IND = pd.DataFrame(IND)\n",
    "\n",
    "#Let age to become a numerical value\n",
    "IND[\"age\"] = IND[\"age\"].apply(pd.to_numeric)\n",
    "\n",
    "print(IND)"
   ]
  },
  {
   "cell_type": "code",
   "execution_count": 337,
   "metadata": {},
   "outputs": [
    {
     "name": "stdout",
     "output_type": "stream",
     "text": [
      "[[0, 0, 1, 0, 1, 1, 0, 0, 1, 0, 1, 1], [1, 1, 0, 1, 0, 0, 1, 1, 0, 1, 0, 0], [0, 0, 0, 0, 0, 0, 1, 1, 1, 1, 1, 1], [1, 1, 1, 1, 1, 1, 0, 0, 0, 0, 0, 0]]\n"
     ]
    }
   ],
   "source": [
    "#Create aggreagted lists \n",
    "\n",
    "#Create emptylist based on constraints \n",
    "Under50 = []\n",
    "Over50 = []\n",
    "M = []\n",
    "F = []\n",
    "\n",
    "#For loop for each constraints -> binary outputs\n",
    "for i in range(len(IND)):\n",
    "    \n",
    "    if IND.loc[i,\"age\"] < 50: \n",
    "            Under50.append(1)\n",
    "            Over50.append(0)\n",
    "\n",
    "    elif IND.loc[i,\"age\"] > 50: \n",
    "            Under50.append(0)\n",
    "            Over50.append(1)\n",
    "\n",
    "for i in range(len(IND)):\n",
    "\n",
    "    if IND.loc[i,\"sex\"] == \"M\": \n",
    "            M.append(1)\n",
    "            F.append(0)\n",
    "            \n",
    "    elif IND.loc[i,\"sex\"] == \"F\": \n",
    "            M.append(0)\n",
    "            F.append(1)\n",
    "            \n",
    "        \n",
    "#Combine all lists \n",
    "IND_Agg =[Under50,Over50,M,F]\n",
    "\n",
    "print(IND_Agg)\n"
   ]
  },
  {
   "cell_type": "code",
   "execution_count": 527,
   "metadata": {},
   "outputs": [],
   "source": [
    "IND_Agg = [[0,0,1,0,1],[1,1,0,1,0],[1,1,1,0,0],[0,0,0,1,1]]"
   ]
  },
  {
   "cell_type": "code",
   "execution_count": 697,
   "metadata": {},
   "outputs": [
    {
     "name": "stdout",
     "output_type": "stream",
     "text": [
      "[[8, 4, 6, 6], [2, 8, 4, 6], [7, 4, 3, 8]]\n"
     ]
    }
   ],
   "source": [
    "#set up fake constraints \n",
    "\n",
    "#CONS = {\"Under50\":[\"8\"],\"Over50\": [\"4\"],\"M\" : [\"6\"],\"F\" : [\"6\"]}\n",
    "#CONS = pd.DataFrame(CONS) \n",
    "#for col in CONS: \n",
    "#    CONS[col] = CONS[col].apply(pd.to_numeric)\n",
    "\n",
    "CONS = [[8,4,6,6],[2,8,4,6],[7,4,3,8]]\n",
    "\n",
    "print(CONS)"
   ]
  },
  {
   "cell_type": "code",
   "execution_count": 708,
   "metadata": {},
   "outputs": [],
   "source": [
    "def IPF(X,Y,max_iteration):\n",
    "    \n",
    "    iteration = 0 \n",
    "    \n",
    "    weight = [1]*len(X[0])\n",
    "\n",
    "\n",
    "    while iteration < max_iteration: \n",
    "        #Setting initial weight -> assuming weight are the same for \n",
    "        #each individual in an area \n",
    "\n",
    "        #K = 1....N(C)\n",
    "        #N(C) the total number of constraints \n",
    "        #Target table \n",
    "        for k in range(len(Y)):\n",
    "\n",
    "            #Ti_KM\n",
    "            #in which the binary variable δjkm takes the value of one if cjk = m, \n",
    "            #and zero otherwise. In order to compare the modelled and observed distributions, a variety of goodness of fit measures could be employed, but typically the most useful will be the total absolute error statistic:\n",
    "            X_new = pd.DataFrame(np.multiply(weight,X[k])).sum(axis=1)\n",
    "\n",
    "            for i in range(len(X[k])):\n",
    "\n",
    "                if X[k][i] == 1:\n",
    "\n",
    "                    weight[i] = weight[i]*Y[k]/sum(X_new)\n",
    "\n",
    "                else: \n",
    "\n",
    "                    weight[i] = weight[i]\n",
    "\n",
    "        #return(weight)\n",
    "\n",
    "        #print(\"Iteration \" + str(k))\n",
    "\n",
    "        Ti_km = pd.DataFrame(np.multiply(weight,X)).sum(axis=1)\n",
    "\n",
    "    #   TAE = sum(abs(Y - Ti_km))\n",
    "        TAE = sum(abs(Y - Ti_km))\n",
    "\n",
    "        iteration += 1 \n",
    "                    \n",
    "\n",
    "        if (iteration == max_iteration):\n",
    "        \n",
    "            break\n",
    "            \n",
    "    return(abs(TAE),weight)\n",
    "\n",
    "\n",
    "\n",
    "\n",
    "\n",
    "    \n",
    "    #print(X_new)\n",
    "    \n",
    "    "
   ]
  },
  {
   "cell_type": "code",
   "execution_count": 675,
   "metadata": {},
   "outputs": [
    {
     "name": "stdout",
     "output_type": "stream",
     "text": [
      "Iteration 1\n",
      "2\n",
      "Iteration 2\n",
      "3\n",
      "Iteration 3\n",
      "4\n",
      "While loop terminated\n"
     ]
    }
   ],
   "source": [
    "a = 1\n",
    "b = 1\n",
    "while (a<10):\n",
    "    print ('Iteration',a)\n",
    "    a = a + 1\n",
    "    b = b + 1\n",
    "    c = b\n",
    "    print(b)\n",
    "\n",
    "\n",
    "    if (b == 4):\n",
    "        break\n",
    "print ('While loop terminated')"
   ]
  },
  {
   "cell_type": "code",
   "execution_count": 690,
   "metadata": {},
   "outputs": [
    {
     "data": {
      "text/plain": [
       "(8.881784197001252e-16,\n",
       " [1.2279981273412341,\n",
       "  1.2279981273412341,\n",
       "  3.5440037453175317,\n",
       "  1.5440037453175308,\n",
       "  4.455996254682469])"
      ]
     },
     "execution_count": 690,
     "metadata": {},
     "output_type": "execute_result"
    }
   ],
   "source": [
    "a = IPF(IND_Agg,CONS[0],10)\n",
    "#predicted = pd.DataFrame(np.multiply(a[1],IND_Agg))\n",
    "#sum(predicted - CONS[0])\n",
    "#a[1]\n",
    "\n",
    "#1.227998 1.227998 3.544004 1.544004 4.455996\n",
    "a\n",
    "\n"
   ]
  },
  {
   "cell_type": "code",
   "execution_count": 559,
   "metadata": {},
   "outputs": [
    {
     "data": {
      "text/plain": [
       "[8, 4, 6, 6]"
      ]
     },
     "execution_count": 559,
     "metadata": {},
     "output_type": "execute_result"
    }
   ],
   "source": [
    "CONS[0]"
   ]
  },
  {
   "cell_type": "code",
   "execution_count": 560,
   "metadata": {},
   "outputs": [
    {
     "data": {
      "text/plain": [
       "0    8.1\n",
       "1    3.9\n",
       "2    6.0\n",
       "3    6.0\n",
       "dtype: float64"
      ]
     },
     "execution_count": 560,
     "metadata": {},
     "output_type": "execute_result"
    }
   ],
   "source": [
    "pd.DataFrame(np.multiply(a[1],IND_Agg)).sum(axis=1)"
   ]
  },
  {
   "cell_type": "code",
   "execution_count": 561,
   "metadata": {},
   "outputs": [],
   "source": [
    "predicted = pd.DataFrame(np.multiply(a[1],IND_Agg)).sum(axis=1)\n"
   ]
  },
  {
   "cell_type": "code",
   "execution_count": 562,
   "metadata": {},
   "outputs": [
    {
     "data": {
      "text/plain": [
       "[1.2000000000000002, 1.2000000000000002, 3.6000000000000005, 1.5, 4.5]"
      ]
     },
     "execution_count": 562,
     "metadata": {},
     "output_type": "execute_result"
    }
   ],
   "source": [
    "a[1]\n"
   ]
  },
  {
   "cell_type": "code",
   "execution_count": 563,
   "metadata": {},
   "outputs": [
    {
     "data": {
      "text/plain": [
       "0    8.1\n",
       "1    3.9\n",
       "2    6.0\n",
       "3    6.0\n",
       "dtype: float64"
      ]
     },
     "execution_count": 563,
     "metadata": {},
     "output_type": "execute_result"
    }
   ],
   "source": [
    "predicted\n"
   ]
  },
  {
   "cell_type": "code",
   "execution_count": 564,
   "metadata": {},
   "outputs": [
    {
     "data": {
      "text/plain": [
       "[8, 4, 6, 6]"
      ]
     },
     "execution_count": 564,
     "metadata": {},
     "output_type": "execute_result"
    }
   ],
   "source": [
    "CONS[0]\n",
    "\n"
   ]
  },
  {
   "cell_type": "code",
   "execution_count": 709,
   "metadata": {},
   "outputs": [],
   "source": [
    "#IPF2 - iteration all possible permutations -> find the best iteration with the smallest TAE\n",
    "\n",
    "import itertools\n",
    "\n",
    "def IPF2(X,Y,max_iteration = 1,max_iteration_IPF = 1):\n",
    "    \n",
    "    #Number of iteration for each permutation order \n",
    "    \n",
    "    iteration = 0 \n",
    "    \n",
    "    smallest = 1000000\n",
    "    \n",
    "    smallest_iteration = 11\n",
    "    \n",
    "    #Generate all possible permutation for individual data \n",
    "    perm = list(itertools.permutations(X))\n",
    "    \n",
    "    #Generate all possible permutation for Constraint data \n",
    "    perm2 =list(itertools.permutations(Y))\n",
    "    \n",
    "    #While statement that loop through all iteration till it achieves max_iteration\n",
    "    while iteration < max_iteration: \n",
    "        \n",
    "        #Generate new individual data for each iteration \n",
    "        #For example, the first iteration has the following order: M, <50, F, >50 \n",
    "        X_new = perm[iteration]\n",
    "\n",
    "        #Generate new Constraints data for each iteration \n",
    "        #For example, the first iteration has the following order: M, <50, F, >50\n",
    "        Y_new = perm2[iteration]\n",
    "        \n",
    "        #Note: The variables order of constraint and individual should be the same\n",
    "        \n",
    "        Result = IPF(X_new,Y_new,max_iteration_IPF)\n",
    "        \n",
    "        TAE = Result[0]\n",
    "        \n",
    "        Weight = Result[1]\n",
    "        #print(TAE)\n",
    "        \n",
    "        print(\"Iteration: \" + str(iteration) + \" stoping criterion:\" + \" \" + str(TAE))\n",
    "        \n",
    "        iteration += 1 \n",
    "        \n",
    "        if smallest > abs(TAE):\n",
    "            \n",
    "            smallest = abs(TAE)\n",
    "            \n",
    "            smallest_iteration = iteration \n",
    "            \n",
    "            final_weight = Weight\n",
    "            \n",
    "    print(\"Converged! Smallest TAE: \" + str(smallest) + \" \" + \"at iteration: \" + str(smallest_iteration - 1))\n",
    "\n",
    "    return(final_weight)\n",
    "    \n",
    "            \n",
    "#IPF2(IND_Agg,CONS,max_iteration = 24) "
   ]
  },
  {
   "cell_type": "code",
   "execution_count": 716,
   "metadata": {},
   "outputs": [
    {
     "name": "stdout",
     "output_type": "stream",
     "text": [
      "Iteration: 0 stoping criterion: 0.0\n",
      "Iteration: 1 stoping criterion: 0.0\n",
      "Iteration: 2 stoping criterion: 5.213607323639735e-13\n",
      "Iteration: 3 stoping criterion: 0.0\n",
      "Iteration: 4 stoping criterion: 1.0125233984581428e-12\n",
      "Iteration: 5 stoping criterion: 0.0\n",
      "Iteration: 6 stoping criterion: 0.0\n",
      "Iteration: 7 stoping criterion: 0.0\n",
      "Iteration: 8 stoping criterion: 1.3988810110276972e-12\n",
      "Iteration: 9 stoping criterion: 0.0\n",
      "Iteration: 10 stoping criterion: 8.890665981198254e-13\n",
      "Iteration: 11 stoping criterion: 0.0\n",
      "Iteration: 12 stoping criterion: 0.0\n",
      "Iteration: 13 stoping criterion: 1.0125233984581428e-12\n",
      "Iteration: 14 stoping criterion: 0.0\n",
      "Iteration: 15 stoping criterion: 1.297628671181883e-12\n",
      "Iteration: 16 stoping criterion: 0.0\n",
      "Iteration: 17 stoping criterion: 0.0\n",
      "Iteration: 18 stoping criterion: 0.0\n",
      "Iteration: 19 stoping criterion: 5.191402863147232e-13\n",
      "Iteration: 20 stoping criterion: 0.0\n",
      "Iteration: 21 stoping criterion: 3.1086244689504383e-13\n",
      "Iteration: 22 stoping criterion: 0.0\n",
      "Iteration: 23 stoping criterion: 0.0\n",
      "Converged! Smallest TAE: 0.0 at iteration: 0\n"
     ]
    }
   ],
   "source": [
    "a1 = IPF2(IND_Agg,CONS[2],max_iteration = 24,max_iteration_IPF =  20) \n",
    "\n"
   ]
  },
  {
   "cell_type": "code",
   "execution_count": 696,
   "metadata": {},
   "outputs": [
    {
     "data": {
      "text/plain": [
       "[2, 8, 4, 8]"
      ]
     },
     "execution_count": 696,
     "metadata": {},
     "output_type": "execute_result"
    }
   ],
   "source": [
    "CONS[1]"
   ]
  },
  {
   "cell_type": "code",
   "execution_count": 699,
   "metadata": {},
   "outputs": [
    {
     "data": {
      "text/plain": [
       "[1.725082782364625,\n",
       " 1.725082782364625,\n",
       " 0.54983443527075,\n",
       " 4.54983443527075,\n",
       " 1.45016556472925]"
      ]
     },
     "execution_count": 699,
     "metadata": {},
     "output_type": "execute_result"
    }
   ],
   "source": [
    "a1\n",
    "\n",
    "#1.7250828 1.7250828 0.5498344 4.5498344 1.4501656\n",
    "\n"
   ]
  },
  {
   "cell_type": "code",
   "execution_count": 593,
   "metadata": {},
   "outputs": [
    {
     "name": "stdout",
     "output_type": "stream",
     "text": [
      "Iteration: 0 stoping criterion: 0.9916123019571295\n",
      "Iteration: 1 stoping criterion: 0.9916123019571295\n",
      "Iteration: 2 stoping criterion: 1.9920948616600795\n",
      "Iteration: 3 stoping criterion: 2.262626262626262\n",
      "Converged! Smallest TAE: 0.9916123019571295 at iteration: 0\n"
     ]
    }
   ],
   "source": [
    "a2= IPF2(IND_Agg,CONS[2],max_iteration = 4) \n"
   ]
  },
  {
   "cell_type": "code",
   "execution_count": 594,
   "metadata": {},
   "outputs": [],
   "source": [
    "p1  = pd.DataFrame(np.multiply(a1,IND_Agg)).sum(axis=1)\n",
    "p2 = pd.DataFrame(np.multiply(a2,IND_Agg)).sum(axis=1)\n",
    "\n"
   ]
  },
  {
   "cell_type": "code",
   "execution_count": 597,
   "metadata": {},
   "outputs": [
    {
     "data": {
      "text/plain": [
       "[7, 4, 3, 8]"
      ]
     },
     "execution_count": 597,
     "metadata": {},
     "output_type": "execute_result"
    }
   ],
   "source": [
    "CONS[2]"
   ]
  },
  {
   "cell_type": "code",
   "execution_count": 595,
   "metadata": {},
   "outputs": [
    {
     "data": {
      "text/plain": [
       "0    7.136585\n",
       "1    4.130081\n",
       "2    3.000000\n",
       "3    8.266667\n",
       "dtype: float64"
      ]
     },
     "execution_count": 595,
     "metadata": {},
     "output_type": "execute_result"
    }
   ],
   "source": [
    "p1"
   ]
  },
  {
   "cell_type": "code",
   "execution_count": 596,
   "metadata": {},
   "outputs": [
    {
     "data": {
      "text/plain": [
       "0    7.495806\n",
       "1    3.504194\n",
       "2    3.000000\n",
       "3    8.000000\n",
       "dtype: float64"
      ]
     },
     "execution_count": 596,
     "metadata": {},
     "output_type": "execute_result"
    }
   ],
   "source": [
    "p2\n"
   ]
  },
  {
   "cell_type": "code",
   "execution_count": 606,
   "metadata": {},
   "outputs": [
    {
     "data": {
      "text/plain": [
       "0    7.0\n",
       "1    4.0\n",
       "2    3.0\n",
       "3    8.0\n",
       "dtype: float64"
      ]
     },
     "execution_count": 606,
     "metadata": {},
     "output_type": "execute_result"
    }
   ],
   "source": [
    "a3 = [0.7250828, 0.7250828, 1.5498344, 2.5498344, 5.4501656]\n",
    "p3 = pd.DataFrame(np.multiply(a3,IND_Agg)).sum(axis=1)\n",
    "\n",
    "\n",
    "p3"
   ]
  },
  {
   "cell_type": "code",
   "execution_count": 607,
   "metadata": {},
   "outputs": [
    {
     "data": {
      "text/plain": [
       "[7, 4, 3, 8]"
      ]
     },
     "execution_count": 607,
     "metadata": {},
     "output_type": "execute_result"
    }
   ],
   "source": [
    "CONS[2]\n"
   ]
  },
  {
   "cell_type": "code",
   "execution_count": 442,
   "metadata": {},
   "outputs": [
    {
     "data": {
      "text/plain": [
       "[8, 4, 6, 6]"
      ]
     },
     "execution_count": 442,
     "metadata": {},
     "output_type": "execute_result"
    }
   ],
   "source": [
    "CONS[0] \n"
   ]
  },
  {
   "cell_type": "code",
   "execution_count": 443,
   "metadata": {},
   "outputs": [
    {
     "name": "stdout",
     "output_type": "stream",
     "text": [
      "Iteration: 0 stoping criterion: 0.666666666666667\n",
      "Iteration: 1 stoping criterion: 0.6666666666666661\n",
      "Iteration: 2 stoping criterion: 0.666666666666667\n",
      "Iteration: 3 stoping criterion: 0.7999999999999998\n",
      "Iteration: 4 stoping criterion: 0.5\n",
      "Iteration: 5 stoping criterion: 0.7999999999999998\n",
      "Iteration: 6 stoping criterion: 0.666666666666667\n",
      "Iteration: 7 stoping criterion: 0.6666666666666661\n",
      "Iteration: 8 stoping criterion: 1.6321839080459775\n",
      "Iteration: 9 stoping criterion: 3.792207792207792\n",
      "Iteration: 10 stoping criterion: 1.0933333333333337\n",
      "Iteration: 11 stoping criterion: 3.792207792207792\n",
      "Iteration: 12 stoping criterion: 2.533333333333333\n",
      "Iteration: 13 stoping criterion: 1.6363636363636367\n",
      "Iteration: 14 stoping criterion: 2.533333333333333\n",
      "Iteration: 15 stoping criterion: 2.666666666666667\n",
      "Iteration: 16 stoping criterion: 3.0\n",
      "Iteration: 17 stoping criterion: 3.0\n",
      "Iteration: 18 stoping criterion: 2.4\n",
      "Iteration: 19 stoping criterion: 2.0\n",
      "Iteration: 20 stoping criterion: 2.4\n",
      "Iteration: 21 stoping criterion: 2.6923076923076925\n",
      "Iteration: 22 stoping criterion: 3.0\n",
      "Iteration: 23 stoping criterion: 3.0\n",
      "Converged! Smallest TAE: 0.5 at iteration: 4\n",
      "Iteration: 0 stoping criterion: 4.333333333333334\n",
      "Iteration: 1 stoping criterion: 2.333333333333333\n",
      "Iteration: 2 stoping criterion: 4.818181818181818\n",
      "Iteration: 3 stoping criterion: 1.333333333333334\n",
      "Iteration: 4 stoping criterion: 0.3333333333333335\n",
      "Iteration: 5 stoping criterion: 1.333333333333334\n",
      "Iteration: 6 stoping criterion: 4.333333333333334\n",
      "Iteration: 7 stoping criterion: 2.333333333333333\n",
      "Iteration: 8 stoping criterion: 4.10752688172043\n",
      "Iteration: 9 stoping criterion: 0.8133971291866033\n",
      "Iteration: 10 stoping criterion: 1.961904761904762\n",
      "Iteration: 11 stoping criterion: 0.8133971291866033\n",
      "Iteration: 12 stoping criterion: 4.961038961038961\n",
      "Iteration: 13 stoping criterion: 1.0256410256410255\n",
      "Iteration: 14 stoping criterion: 4.961038961038961\n",
      "Iteration: 15 stoping criterion: 1.8476190476190473\n",
      "Iteration: 16 stoping criterion: 1.333333333333334\n",
      "Iteration: 17 stoping criterion: 3.333333333333333\n",
      "Iteration: 18 stoping criterion: 0.9333333333333336\n",
      "Iteration: 19 stoping criterion: 0.6666666666666661\n",
      "Iteration: 20 stoping criterion: 0.9333333333333336\n",
      "Iteration: 21 stoping criterion: 3.090909090909091\n",
      "Iteration: 22 stoping criterion: 1.333333333333334\n",
      "Iteration: 23 stoping criterion: 3.333333333333333\n",
      "Converged! Smallest TAE: 0.3333333333333335 at iteration: 4\n",
      "Iteration: 0 stoping criterion: 3.166666666666667\n",
      "Iteration: 1 stoping criterion: 3.166666666666666\n",
      "Iteration: 2 stoping criterion: 2.586956521739131\n",
      "Iteration: 3 stoping criterion: 1.1313131313131315\n",
      "Iteration: 4 stoping criterion: 2.617647058823529\n",
      "Iteration: 5 stoping criterion: 1.1313131313131315\n",
      "Iteration: 6 stoping criterion: 3.166666666666667\n",
      "Iteration: 7 stoping criterion: 3.166666666666666\n",
      "Iteration: 8 stoping criterion: 2.8166666666666673\n",
      "Iteration: 9 stoping criterion: 2.753246753246753\n",
      "Iteration: 10 stoping criterion: 1.247311827956989\n",
      "Iteration: 11 stoping criterion: 2.753246753246753\n",
      "Iteration: 12 stoping criterion: 3.166666666666667\n",
      "Iteration: 13 stoping criterion: 0.22222222222222232\n",
      "Iteration: 14 stoping criterion: 3.166666666666667\n",
      "Iteration: 15 stoping criterion: 2.571428571428571\n",
      "Iteration: 16 stoping criterion: 2.0\n",
      "Iteration: 17 stoping criterion: 2.0\n",
      "Iteration: 18 stoping criterion: 0.2666666666666666\n",
      "Iteration: 19 stoping criterion: 1.7647058823529411\n",
      "Iteration: 20 stoping criterion: 0.2666666666666666\n",
      "Iteration: 21 stoping criterion: 1.7142857142857144\n",
      "Iteration: 22 stoping criterion: 2.0\n",
      "Iteration: 23 stoping criterion: 2.0\n",
      "Converged! Smallest TAE: 0.22222222222222232 at iteration: 13\n",
      "[[1.1538461538461537, 1.1538461538461537, 3.6923076923076925, 1.4999999999999998, 4.8], [1.4545454545454546, 1.4545454545454546, 1.090909090909091, 5.333333333333333, 4.0], [1.0588235294117647, 1.0588235294117647, 3.5, 1.8823529411764706, 6.222222222222222]]\n"
     ]
    }
   ],
   "source": [
    "#Return a complete weight matrix for each constraints and for each area based on the iteration with the smallest TAE\n",
    "def IPF3(X,Y,Z = 1):\n",
    "    \n",
    "    area_weight = []\n",
    "    \n",
    "    for i in range(len(Y)):\n",
    "        \n",
    "        \n",
    "        weight = IPF2(X,Y[i],max_iteration = Z)\n",
    "        \n",
    "        area_weight.append(weight)\n",
    "        \n",
    "    return(area_weight)\n",
    "        \n",
    "\n",
    "\n",
    "a =  IPF3(IND_Agg,CONS,24)\n",
    "print(a)"
   ]
  }
 ],
 "metadata": {
  "kernelspec": {
   "display_name": "Python 3",
   "language": "python",
   "name": "python3"
  },
  "language_info": {
   "codemirror_mode": {
    "name": "ipython",
    "version": 3
   },
   "file_extension": ".py",
   "mimetype": "text/x-python",
   "name": "python",
   "nbconvert_exporter": "python",
   "pygments_lexer": "ipython3",
   "version": "3.7.3"
  }
 },
 "nbformat": 4,
 "nbformat_minor": 4
}
