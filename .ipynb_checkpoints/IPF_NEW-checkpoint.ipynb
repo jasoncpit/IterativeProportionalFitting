{
 "cells": [
  {
   "cell_type": "code",
   "execution_count": 270,
   "metadata": {},
   "outputs": [],
   "source": [
    "import pandas as pd \n",
    "import numpy as np\n",
    "from itertools import permutations\n"
   ]
  },
  {
   "cell_type": "code",
   "execution_count": 543,
   "metadata": {},
   "outputs": [
    {
     "name": "stdout",
     "output_type": "stream",
     "text": [
      "   age sex\n",
      "0   59   F\n",
      "1   54   F\n",
      "2   35   F\n",
      "3   73   F\n",
      "4   49   F\n",
      "5   30   F\n"
     ]
    }
   ],
   "source": [
    "IND = {\"age\":[\"59\",\"54\",\"35\",\"73\",\"49\",\"30\"],\n",
    "      \"sex\":[\"F\",\"F\",\"F\",\"F\",\"F\",\"F\"]}\n",
    "IND = pd.DataFrame(IND)\n",
    "IND[\"age\"] = IND[\"age\"].apply(pd.to_numeric)\n",
    "print(IND)"
   ]
  },
  {
   "cell_type": "code",
   "execution_count": 544,
   "metadata": {},
   "outputs": [
    {
     "name": "stdout",
     "output_type": "stream",
     "text": [
      "[[0, 0, 1, 0, 1, 1], [1, 1, 0, 1, 0, 0], [0, 0, 0, 0, 0, 0], [1, 1, 1, 1, 1, 1]]\n"
     ]
    }
   ],
   "source": [
    "Under50 = []\n",
    "Over50 = []\n",
    "M = []\n",
    "F = []\n",
    "\n",
    "for i in range(len(IND)):\n",
    "    \n",
    "    if IND.loc[i,\"age\"] < 50: \n",
    "            Under50.append(1)\n",
    "            Over50.append(0)\n",
    "\n",
    "    elif IND.loc[i,\"age\"] > 50: \n",
    "            Under50.append(0)\n",
    "            Over50.append(1)\n",
    "\n",
    "for i in range(len(IND)):\n",
    "\n",
    "    if IND.loc[i,\"sex\"] == \"M\": \n",
    "            M.append(1)\n",
    "            F.append(0)\n",
    "            \n",
    "    elif IND.loc[i,\"sex\"] == \"F\": \n",
    "            M.append(0)\n",
    "            F.append(1)\n",
    "            \n",
    "        \n",
    "\n",
    "IND_Agg =[Under50,Over50,M,F]\n",
    "print(IND_Agg)"
   ]
  },
  {
   "cell_type": "code",
   "execution_count": 584,
   "metadata": {},
   "outputs": [
    {
     "name": "stdout",
     "output_type": "stream",
     "text": [
      "[[8, 4, 2, 10], [3, 3, 0, 6]]\n"
     ]
    }
   ],
   "source": [
    "#CONS = {\"Under50\":[\"8\"],\"Over50\": [\"4\"],\"M\" : [\"6\"],\"F\" : [\"6\"]}\n",
    "#CONS = pd.DataFrame(CONS) \n",
    "#for col in CONS: \n",
    "#    CONS[col] = CONS[col].apply(pd.to_numeric)\n",
    "\n",
    "CONS = [[8,4,2,10],[3,3,0,6]]\n",
    "\n",
    "print(CONS)"
   ]
  },
  {
   "cell_type": "code",
   "execution_count": 585,
   "metadata": {},
   "outputs": [
    {
     "data": {
      "text/plain": [
       "array([ 0.,  0., -3.,  3.])"
      ]
     },
     "execution_count": 585,
     "metadata": {},
     "output_type": "execute_result"
    }
   ],
   "source": [
    "#Main IPF Algorithmn\n",
    "\n",
    "#weight = [1,1,1,1,1]\n",
    "\n",
    "def IPF(X,Y):\n",
    "    \n",
    "    weight = [1,1,1,1,1,1]\n",
    "    \n",
    "    for k in range(len(Y)):\n",
    "        X_new = np.multiply(weight,X[k])\n",
    "        for i in range(len(X[k])):\n",
    "            if X[k][i] == 1:\n",
    "                weight[i] = weight[i]*Y[k]/sum(X_new)\n",
    "            else: \n",
    "                weight[i] = weight[i]\n",
    "    #print(weight)\n",
    "    #print(\"Iteration \" + str(k))\n",
    "    TAE = Y[k] - sum(X_new) \n",
    "    return(TAE)\n",
    "    #print(X_new)\n",
    "   \n",
    "IPF(IND_Agg,CONS)\n",
    "            \n",
    "            "
   ]
  },
  {
   "cell_type": "code",
   "execution_count": 586,
   "metadata": {},
   "outputs": [],
   "source": [
    "# Python function to print permutations of a given list \n",
    "def permutation(lst): \n",
    "  \n",
    "    # If lst is empty then there are no permutations \n",
    "    if len(lst) == 0: \n",
    "        return [] \n",
    "  \n",
    "    # If there is only one element in lst then, only \n",
    "    # one permuatation is possible \n",
    "    if len(lst) == 1: \n",
    "        return [lst] \n",
    "  \n",
    "    # Find the permutations for lst if there are \n",
    "    # more than 1 characters \n",
    "  \n",
    "    l = [] # empty list that will store current permutation \n",
    "  \n",
    "    # Iterate the input(lst) and calculate the permutation \n",
    "    for i in range(len(lst)): \n",
    "       m = lst[i] \n",
    "  \n",
    "       # Extract lst[i] or m from the list.  remLst is \n",
    "       # remaining list \n",
    "       remLst = lst[:i] + lst[i+1:] \n",
    "  \n",
    "       # Generating all permutations where m is first \n",
    "       # element \n",
    "       for p in permutation(remLst): \n",
    "           l.append([m] + p) \n",
    "    return l "
   ]
  },
  {
   "cell_type": "code",
   "execution_count": 591,
   "metadata": {},
   "outputs": [],
   "source": [
    "weight = [1,1,1,1,1,1]\n",
    "\n",
    "def IPF2(X,Y,max_iteration = 1):\n",
    "    \n",
    "    #Number of iteration for each permutation order \n",
    "    \n",
    "    iteration = 0 \n",
    "    \n",
    "    smallest = 10\n",
    "    \n",
    "    smallest_iteration = 11\n",
    "    \n",
    "    #Generate all possible permutation for individual data \n",
    "    perm = permutation(X)\n",
    "    \n",
    "    #Generate all possible permutation for Constraint data \n",
    "    perm2 = permutation(Y)\n",
    "    \n",
    "    #While statement that loop through all iteration till it achieves max_iteration\n",
    "    while iteration < max_iteration: \n",
    "        \n",
    "        #Generate new individual data for each iteration \n",
    "        #For example, the first iteration has the following order: M, <50, F, >50 \n",
    "        X_new = perm[iteration]\n",
    "\n",
    "        #Generate new Constraints data for each iteration \n",
    "        #For example, the first iteration has the following order: M, <50, F, >50\n",
    "        Y_new = perm2[iteration]\n",
    "        \n",
    "        #Note: The variables order of constraint and individual should be the same\n",
    "        \n",
    "        \n",
    "        print(\"Iteration: \" + str(iteration))\n",
    "        \n",
    "        TAE = IPF(X_new,Y_new)\n",
    "        \n",
    "        #print(TAE)\n",
    "        \n",
    "        iteration += 1 \n",
    "        \n",
    "        if smallest > abs(TAE):\n",
    "            \n",
    "            smallest = abs(TAE)\n",
    "            \n",
    "            smallest_iteration = iteration \n",
    "    print(\"Converged! Smallest TAE: \" + str(smallest) + \" \" + \"at iteration: \" + str(smallest_iteration))\n",
    "\n",
    "    return(smallest,smallest_iteration)\n",
    "\n",
    "            \n",
    "#IPF2(IND_Agg,CONS,max_iteration = 24) "
   ]
  },
  {
   "cell_type": "code",
   "execution_count": 605,
   "metadata": {},
   "outputs": [],
   "source": [
    "def IPF3(X,Y,Z = 1):\n",
    "    for i in range(len(Y)):\n",
    "        IPF2(X,Y[i],max_iteration = Z)\n",
    "        \n",
    "\n"
   ]
  },
  {
   "cell_type": "code",
   "execution_count": 608,
   "metadata": {},
   "outputs": [
    {
     "name": "stdout",
     "output_type": "stream",
     "text": [
      "Iteration: 0\n",
      "Iteration: 1\n",
      "Iteration: 2\n",
      "Iteration: 3\n",
      "Iteration: 4\n",
      "Iteration: 5\n",
      "Iteration: 6\n",
      "Iteration: 7\n",
      "Iteration: 8\n",
      "Iteration: 9\n",
      "Iteration: 10\n",
      "Iteration: 11\n",
      "Iteration: 12\n",
      "Iteration: 13\n",
      "Iteration: 14\n",
      "Iteration: 15\n",
      "Iteration: 16\n",
      "Iteration: 17\n",
      "Iteration: 18\n",
      "Iteration: 19\n",
      "Iteration: 20\n",
      "Iteration: 21\n",
      "Iteration: 22\n",
      "Iteration: 23\n",
      "Converged! Smallest TAE: 1.0 at iteration: 17\n",
      "Iteration: 0\n",
      "Iteration: 1\n",
      "Iteration: 2\n",
      "Iteration: 3\n",
      "Iteration: 4\n",
      "Iteration: 5\n",
      "Iteration: 6\n",
      "Iteration: 7\n",
      "Iteration: 8\n",
      "Iteration: 9\n",
      "Iteration: 10\n",
      "Iteration: 11\n",
      "Iteration: 12\n",
      "Iteration: 13\n",
      "Iteration: 14\n",
      "Iteration: 15\n",
      "Iteration: 16\n",
      "Iteration: 17\n",
      "Iteration: 18\n",
      "Iteration: 19\n",
      "Iteration: 20\n",
      "Iteration: 21\n",
      "Iteration: 22\n",
      "Iteration: 23\n",
      "Converged! Smallest TAE: 0.0 at iteration: 1\n"
     ]
    }
   ],
   "source": [
    "IPF3(IND_Agg,CONS,24) "
   ]
  }
 ],
 "metadata": {
  "kernelspec": {
   "display_name": "Python 3",
   "language": "python",
   "name": "python3"
  },
  "language_info": {
   "codemirror_mode": {
    "name": "ipython",
    "version": 3
   },
   "file_extension": ".py",
   "mimetype": "text/x-python",
   "name": "python",
   "nbconvert_exporter": "python",
   "pygments_lexer": "ipython3",
   "version": "3.7.3"
  }
 },
 "nbformat": 4,
 "nbformat_minor": 2
}
