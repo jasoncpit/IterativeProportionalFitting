{
 "cells": [
  {
   "cell_type": "code",
   "execution_count": 76,
   "metadata": {},
   "outputs": [],
   "source": [
    "import pandas as pd \n",
    "import numpy as np\n",
    "from itertools import permutations\n"
   ]
  },
  {
   "cell_type": "code",
   "execution_count": 68,
   "metadata": {},
   "outputs": [
    {
     "name": "stdout",
     "output_type": "stream",
     "text": [
      "   age sex\n",
      "0   59   M\n",
      "1   54   M\n",
      "2   35   M\n",
      "3   73   F\n",
      "4   49   F\n"
     ]
    }
   ],
   "source": [
    "IND = {\"age\":[\"59\",\"54\",\"35\",\"73\",\"49\"],\n",
    "      \"sex\":[\"M\",\"M\",\"M\",\"F\",\"F\"]}\n",
    "IND = pd.DataFrame(IND)\n",
    "IND[\"age\"] = IND[\"age\"].apply(pd.to_numeric)\n",
    "print(IND)"
   ]
  },
  {
   "cell_type": "code",
   "execution_count": 69,
   "metadata": {},
   "outputs": [
    {
     "data": {
      "text/plain": [
       "[[0, 0, 1, 0, 1], [1, 1, 0, 1, 0], [1, 1, 1, 0, 0], [0, 0, 0, 1, 1]]"
      ]
     },
     "execution_count": 69,
     "metadata": {},
     "output_type": "execute_result"
    }
   ],
   "source": [
    "Under50 = []\n",
    "Over50 = []\n",
    "M = []\n",
    "F = []\n",
    "\n",
    "for i in range(len(IND)):\n",
    "    \n",
    "    if IND.loc[i,\"age\"] < 50: \n",
    "            Under50.append(1)\n",
    "            Over50.append(0)\n",
    "\n",
    "    elif IND.loc[i,\"age\"] > 50: \n",
    "            Under50.append(0)\n",
    "            Over50.append(1)\n",
    "\n",
    "for i in range(len(IND)):\n",
    "\n",
    "    if IND.loc[i,\"sex\"] == \"M\": \n",
    "            M.append(1)\n",
    "            F.append(0)\n",
    "            \n",
    "    elif IND.loc[i,\"sex\"] == \"F\": \n",
    "            M.append(0)\n",
    "            F.append(1)\n",
    "            \n",
    "        \n",
    "\n",
    "IND_Agg =[Under50,Over50,M,F]\n",
    "IND_Agg"
   ]
  },
  {
   "cell_type": "code",
   "execution_count": 70,
   "metadata": {},
   "outputs": [
    {
     "name": "stdout",
     "output_type": "stream",
     "text": [
      "   Under50  Over50  M  F\n",
      "0        8       4  6  6\n"
     ]
    }
   ],
   "source": [
    "CONS = {\"Under50\":[\"8\"],\"Over50\": [\"4\"],\"M\" : [\"6\"],\"F\" : [\"6\"]}\n",
    "CONS = pd.DataFrame(CONS) \n",
    "for col in CONS: \n",
    "    CONS[col] = CONS[col].apply(pd.to_numeric)\n",
    "\n",
    "\n",
    "print(CONS)"
   ]
  },
  {
   "cell_type": "code",
   "execution_count": 71,
   "metadata": {},
   "outputs": [
    {
     "name": "stdout",
     "output_type": "stream",
     "text": [
      "[1.2000000000000002, 1.2000000000000002, 3.6000000000000005, 1.5, 4.5]\n",
      "Iteration 3\n",
      "[0.         0.         0.         1.33333333 4.        ]\n"
     ]
    }
   ],
   "source": [
    "weight = [1,1,1,1,1]\n",
    "def IPF(X,Y,seed = 1):\n",
    "    for k in range(seed):\n",
    "        X_new = np.multiply(weight,X[k])\n",
    "        for i in range(5):\n",
    "            if X[k][i] == 1:\n",
    "                weight[i] = weight[i]*Y.iloc[0,k]/sum(X_new)\n",
    "            else: \n",
    "                weight[i] = weight[i]\n",
    "    print(weight)\n",
    "    print(\"Iteration \" + str(k))\n",
    "    TAE = Y.iloc[0,k] - sum(weight) \n",
    "    print(X_new)\n",
    "   \n",
    "IPF(IND_Agg,CONS,seed = 4 )\n",
    "            \n",
    "            "
   ]
  },
  {
   "cell_type": "code",
   "execution_count": 87,
   "metadata": {},
   "outputs": [
    {
     "ename": "TypeError",
     "evalue": "'list' object is not callable",
     "output_type": "error",
     "traceback": [
      "\u001b[0;31m---------------------------------------------------------------------------\u001b[0m",
      "\u001b[0;31mTypeError\u001b[0m                                 Traceback (most recent call last)",
      "\u001b[0;32m<ipython-input-87-fec3da05d543>\u001b[0m in \u001b[0;36m<module>\u001b[0;34m\u001b[0m\n\u001b[0;32m----> 1\u001b[0;31m \u001b[0mlist\u001b[0m\u001b[0;34m(\u001b[0m\u001b[0mpermutations\u001b[0m\u001b[0;34m(\u001b[0m\u001b[0mIND_Agg\u001b[0m\u001b[0;34m)\u001b[0m\u001b[0;34m)\u001b[0m\u001b[0;34m[\u001b[0m\u001b[0;36m0\u001b[0m\u001b[0;34m]\u001b[0m\u001b[0;34m\u001b[0m\u001b[0;34m\u001b[0m\u001b[0m\n\u001b[0m",
      "\u001b[0;31mTypeError\u001b[0m: 'list' object is not callable"
     ]
    }
   ],
   "source": [
    "list(permutations(IND_Agg))[0]"
   ]
  },
  {
   "cell_type": "code",
   "execution_count": 84,
   "metadata": {},
   "outputs": [
    {
     "ename": "TypeError",
     "evalue": "'list' object is not callable",
     "output_type": "error",
     "traceback": [
      "\u001b[0;31m---------------------------------------------------------------------------\u001b[0m",
      "\u001b[0;31mTypeError\u001b[0m                                 Traceback (most recent call last)",
      "\u001b[0;32m<ipython-input-84-e67d6e63fcb2>\u001b[0m in \u001b[0;36m<module>\u001b[0;34m\u001b[0m\n\u001b[1;32m     57\u001b[0m         \u001b[0miteration\u001b[0m \u001b[0;34m+=\u001b[0m \u001b[0;36m1\u001b[0m\u001b[0;34m\u001b[0m\u001b[0;34m\u001b[0m\u001b[0m\n\u001b[1;32m     58\u001b[0m \u001b[0;34m\u001b[0m\u001b[0m\n\u001b[0;32m---> 59\u001b[0;31m \u001b[0mIPF\u001b[0m\u001b[0;34m(\u001b[0m\u001b[0mIND_Agg\u001b[0m\u001b[0;34m,\u001b[0m\u001b[0mCONS\u001b[0m\u001b[0;34m,\u001b[0m\u001b[0mmax_iteration\u001b[0m \u001b[0;34m=\u001b[0m \u001b[0;36m4\u001b[0m \u001b[0;34m)\u001b[0m\u001b[0;34m\u001b[0m\u001b[0;34m\u001b[0m\u001b[0m\n\u001b[0m",
      "\u001b[0;32m<ipython-input-84-e67d6e63fcb2>\u001b[0m in \u001b[0;36mIPF\u001b[0;34m(X, Y, max_iteration)\u001b[0m\n\u001b[1;32m     15\u001b[0m \u001b[0;34m\u001b[0m\u001b[0m\n\u001b[1;32m     16\u001b[0m     \u001b[0;31m#Generate all possible permutation for individual data\u001b[0m\u001b[0;34m\u001b[0m\u001b[0;34m\u001b[0m\u001b[0;34m\u001b[0m\u001b[0m\n\u001b[0;32m---> 17\u001b[0;31m     \u001b[0mperm\u001b[0m \u001b[0;34m=\u001b[0m \u001b[0mlist\u001b[0m\u001b[0;34m(\u001b[0m\u001b[0mpermutations\u001b[0m\u001b[0;34m(\u001b[0m\u001b[0mX\u001b[0m\u001b[0;34m)\u001b[0m\u001b[0;34m)\u001b[0m\u001b[0;34m\u001b[0m\u001b[0;34m\u001b[0m\u001b[0m\n\u001b[0m\u001b[1;32m     18\u001b[0m \u001b[0;34m\u001b[0m\u001b[0m\n\u001b[1;32m     19\u001b[0m     \u001b[0;31m#Generate all possible permutation for Constraint data\u001b[0m\u001b[0;34m\u001b[0m\u001b[0;34m\u001b[0m\u001b[0;34m\u001b[0m\u001b[0m\n",
      "\u001b[0;31mTypeError\u001b[0m: 'list' object is not callable"
     ]
    }
   ],
   "source": [
    "#Different order \n",
    "\n",
    "weight = [1,1,1,1,1]\n",
    "\n",
    "\n",
    "def IPF(X,Y,max_iteration = 1):\n",
    "    \n",
    "    '''\n",
    "    Since IPF is sensitive to the order of iteration \n",
    "    This function considers all the possible permutation of the order of the constraints \n",
    "    And find the optimal permutation for the smallest TAE \n",
    "    '''\n",
    "    #Number of iteration for each permutation order \n",
    "    iteration = 0\n",
    "    \n",
    "    #Generate all possible permutation for individual data \n",
    "    perm = list(permutations(X)) \n",
    "    \n",
    "    #Generate all possible permutation for Constraint data \n",
    "    perm2 = list(permutations(Y))\n",
    "    \n",
    "    #While statement that loop through all iteration till it achieves max_iteration\n",
    "    while iteration < max_iteration:\n",
    "        \n",
    "        #Generate new individual data for each iteration \n",
    "        #For example, the first iteration has the following order: M, <50, F, >50 \n",
    "        X_new = perm[iteration]\n",
    "\n",
    "        #Generate new Constraints data for each iteration \n",
    "        #For example, the first iteration has the following order: M, <50, F, >50\n",
    "        Y_new = perm2[iteration]\n",
    "        \n",
    "        #Note: The variables order of constraint and individual should be the same\n",
    "\n",
    "        #For statement that loops through all the varaibles in the constraint dataset \n",
    "        for k in range(len(Y.columns)):\n",
    "            \n",
    "            #Generate new cell counts using the current weight\n",
    "            X_new = np.multiply(weight,X_new[k])\n",
    "            \n",
    "            #For statement that loops through all the individual in the individual dataset \n",
    "            for i in range(len(X)):\n",
    "                \n",
    "                #IF else statement, if the \n",
    "                if X_new[i] == 1:\n",
    "                    \n",
    "                    weight[i] = weight[i]*Y.loc[0,Y_new[k]]/sum(X_new)\n",
    "                    \n",
    "                else: \n",
    "                    \n",
    "                    weight[i] = weight[i]\n",
    "                    \n",
    "        print(weight)\n",
    "        #print(\"Iteration \" + str(k))\n",
    "        #TAE = Y.iloc[0,k] - sum(X_new) \n",
    "        #print(TAE)\n",
    "        iteration += 1 \n",
    "   \n",
    "IPF(IND_Agg,CONS,max_iteration = 4 )"
   ]
  },
  {
   "cell_type": "code",
   "execution_count": null,
   "metadata": {},
   "outputs": [],
   "source": []
  }
 ],
 "metadata": {
  "kernelspec": {
   "display_name": "Python 3",
   "language": "python",
   "name": "python3"
  },
  "language_info": {
   "codemirror_mode": {
    "name": "ipython",
    "version": 3
   },
   "file_extension": ".py",
   "mimetype": "text/x-python",
   "name": "python",
   "nbconvert_exporter": "python",
   "pygments_lexer": "ipython3",
   "version": "3.7.3"
  }
 },
 "nbformat": 4,
 "nbformat_minor": 2
}
