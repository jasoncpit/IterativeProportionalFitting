{
 "cells": [
  {
   "cell_type": "code",
   "execution_count": 3,
   "metadata": {},
   "outputs": [],
   "source": [
    "import pandas as pd \n",
    "import numpy as np"
   ]
  },
  {
   "cell_type": "code",
   "execution_count": 4,
   "metadata": {},
   "outputs": [
    {
     "name": "stdout",
     "output_type": "stream",
     "text": [
      "   age sex Energydrink_consumption\n",
      "0   59   F                       3\n",
      "1   54   F                       4\n",
      "2   35   F                       5\n",
      "3   73   F                       6\n",
      "4   49   F                       7\n",
      "5   30   F                       1\n"
     ]
    }
   ],
   "source": [
    "IND = {\"age\":[\"59\",\"54\",\"35\",\"73\",\"49\",\"30\"],\n",
    "      \"sex\":[\"F\",\"F\",\"F\",\"F\",\"F\",\"F\"],\n",
    "      \"Energydrink_consumption\":[\"3\",\"4\",\"5\",\"6\",\"7\",\"1\"]}\n",
    "IND = pd.DataFrame(IND)\n",
    "IND[\"age\"] = IND[\"age\"].apply(pd.to_numeric)\n",
    "print(IND)"
   ]
  },
  {
   "cell_type": "code",
   "execution_count": 5,
   "metadata": {},
   "outputs": [
    {
     "name": "stdout",
     "output_type": "stream",
     "text": [
      "[[0, 0, 1, 0, 1, 1], [1, 1, 0, 1, 0, 0], [0, 0, 0, 0, 0, 0], [1, 1, 1, 1, 1, 1]]\n"
     ]
    },
    {
     "data": {
      "text/plain": [
       "list"
      ]
     },
     "execution_count": 5,
     "metadata": {},
     "output_type": "execute_result"
    }
   ],
   "source": [
    "Under50 = []\n",
    "Over50 = []\n",
    "M = []\n",
    "F = []\n",
    "\n",
    "for i in range(len(IND)):\n",
    "    \n",
    "    if IND.loc[i,\"age\"] < 50: \n",
    "            Under50.append(1)\n",
    "            Over50.append(0)\n",
    "\n",
    "    elif IND.loc[i,\"age\"] > 50: \n",
    "            Under50.append(0)\n",
    "            Over50.append(1)\n",
    "\n",
    "for i in range(len(IND)):\n",
    "\n",
    "    if IND.loc[i,\"sex\"] == \"M\": \n",
    "            M.append(1)\n",
    "            F.append(0)\n",
    "            \n",
    "    elif IND.loc[i,\"sex\"] == \"F\": \n",
    "            M.append(0)\n",
    "            F.append(1)\n",
    "            \n",
    "        \n",
    "\n",
    "IND_Agg =[Under50,Over50,M,F]\n",
    "print(IND_Agg)\n",
    "type(IND_Agg)"
   ]
  },
  {
   "cell_type": "code",
   "execution_count": 50,
   "metadata": {},
   "outputs": [
    {
     "name": "stdout",
     "output_type": "stream",
     "text": [
      "[[8, 4, 2, 10], [3, 3, 0, 6], [8000, 4000, 2000, 10000]]\n"
     ]
    }
   ],
   "source": [
    "#CONS = {\"Under50\":[\"8\"],\"Over50\": [\"4\"],\"M\" : [\"6\"],\"F\" : [\"6\"]}\n",
    "#CONS = pd.DataFrame(CONS) \n",
    "#for col in CONS: \n",
    "#    CONS[col] = CONS[col].apply(pd.to_numeric)\n",
    "\n",
    "CONS = [[8,4,2,10],[3,3,0,6],[8000,4000,2000,10000]]\n",
    "\n",
    "print(CONS)"
   ]
  },
  {
   "cell_type": "code",
   "execution_count": 56,
   "metadata": {},
   "outputs": [],
   "source": [
    "#Main IPF Algorithmn\n",
    "\n",
    "#weight = [1,1,1,1,1,1]\n",
    "\n",
    "def IPF(X,Y):\n",
    "    \n",
    "    weight = [1]*len(X[0])\n",
    "\n",
    "    for k in range(len(Y)):\n",
    "        X_new = np.multiply(weight,X[k])\n",
    "        for i in range(len(X[k])):\n",
    "            if X[k][i] == 1:\n",
    "                weight[i] = weight[i]*Y[k]/sum(X_new)\n",
    "            else: \n",
    "                weight[i] = weight[i]\n",
    "    #return(weight)\n",
    "    #print(\"Iteration \" + str(k))\n",
    "    TAE = Y[k] - sum(X_new) \n",
    "    return(TAE,weight)\n",
    "    #print(X_new)\n",
    "   \n",
    "   \n",
    "            "
   ]
  },
  {
   "cell_type": "code",
   "execution_count": 83,
   "metadata": {},
   "outputs": [
    {
     "name": "stdout",
     "output_type": "stream",
     "text": [
      "[1.1111111111111112, 1.1111111111111112, 2.2222222222222223, 1.1111111111111112, 2.2222222222222223, 2.2222222222222223]\n",
      "[1.0, 1.0, 1.0, 1.0, 1.0, 1.0]\n",
      "[1111.111111111111, 1111.111111111111, 2222.222222222222, 1111.111111111111, 2222.222222222222, 2222.222222222222]\n"
     ]
    }
   ],
   "source": [
    "for i in range(len(CONS)):\n",
    "    result = IPF(IND_Agg,CONS[i])\n",
    "    print(result[1])\n",
    "#weight = [1]*len(IND_Agg[0])\n",
    "#np.multiply(weight,IND_Agg[len(CONS)])\n",
    "#weight"
   ]
  },
  {
   "cell_type": "code",
   "execution_count": 8,
   "metadata": {},
   "outputs": [],
   "source": [
    "# Python function to print permutations of a given list \n",
    "def permutation(lst): \n",
    "  \n",
    "    # If lst is empty then there are no permutations \n",
    "    if len(lst) == 0: \n",
    "        return [] \n",
    "  \n",
    "    # If there is only one element in lst then, only \n",
    "    # one permuatation is possible \n",
    "    if len(lst) == 1: \n",
    "        return [lst] \n",
    "  \n",
    "    # Find the permutations for lst if there are \n",
    "    # more than 1 characters \n",
    "  \n",
    "    l = [] # empty list that will store current permutation \n",
    "  \n",
    "    # Iterate the input(lst) and calculate the permutation \n",
    "    for i in range(len(lst)): \n",
    "       m = lst[i] \n",
    "  \n",
    "       # Extract lst[i] or m from the list.  remLst is \n",
    "       # remaining list \n",
    "       remLst = lst[:i] + lst[i+1:] \n",
    "  \n",
    "       # Generating all permutations where m is first \n",
    "       # element \n",
    "       for p in permutation(remLst): \n",
    "           l.append([m] + p) \n",
    "    return l "
   ]
  },
  {
   "cell_type": "code",
   "execution_count": 10,
   "metadata": {},
   "outputs": [],
   "source": [
    "#weight = [1]*len(X)\n",
    "\n",
    "\n",
    "def IPF2(X,Y,max_iteration = 1):\n",
    "    \n",
    "    #Number of iteration for each permutation order \n",
    "    \n",
    "    iteration = 0 \n",
    "    \n",
    "    smallest = 1000000\n",
    "    \n",
    "    smallest_iteration = 11\n",
    "    \n",
    "    #Generate all possible permutation for individual data \n",
    "    perm = permutation(X)\n",
    "    \n",
    "    #Generate all possible permutation for Constraint data \n",
    "    perm2 = permutation(Y)\n",
    "    \n",
    "    #While statement that loop through all iteration till it achieves max_iteration\n",
    "    while iteration < max_iteration: \n",
    "        \n",
    "        #Generate new individual data for each iteration \n",
    "        #For example, the first iteration has the following order: M, <50, F, >50 \n",
    "        X_new = perm[iteration]\n",
    "\n",
    "        #Generate new Constraints data for each iteration \n",
    "        #For example, the first iteration has the following order: M, <50, F, >50\n",
    "        Y_new = perm2[iteration]\n",
    "        \n",
    "        #Note: The variables order of constraint and individual should be the same\n",
    "        \n",
    "        \n",
    "        print(\"Iteration: \" + str(iteration))\n",
    "        \n",
    "        Result = IPF(X_new,Y_new)\n",
    "        \n",
    "        TAE = Result[0]\n",
    "        \n",
    "        Weight = Result[1]\n",
    "        #print(TAE)\n",
    "        \n",
    "        iteration += 1 \n",
    "        \n",
    "        if smallest > abs(TAE):\n",
    "            \n",
    "            smallest = abs(TAE)\n",
    "            \n",
    "            smallest_iteration = iteration \n",
    "            \n",
    "            final_weight = Weight\n",
    "            \n",
    "    print(\"Converged! Smallest TAE: \" + str(smallest) + \" \" + \"at iteration: \" + str(smallest_iteration))\n",
    "\n",
    "    return(final_weight)\n",
    "    \n",
    "            \n",
    "#IPF2(IND_Agg,CONS,max_iteration = 24) "
   ]
  },
  {
   "cell_type": "code",
   "execution_count": 11,
   "metadata": {},
   "outputs": [],
   "source": [
    "#Return a complete weight matrix based on the iteration with the smallest TAE\n",
    "def IPF3(X,Y,Z = 1):\n",
    "    \n",
    "    area_weight = []\n",
    "    \n",
    "    for i in range(len(Y)):\n",
    "        \n",
    "        weight = IPF2(X,Y[i],max_iteration = Z)\n",
    "        \n",
    "        area_weight.append(weight)\n",
    "        \n",
    "    return(area_weight)\n",
    "        \n",
    "#\n",
    "#a =  IPF3(IND_Agg,CONS,24)\n",
    "#print(a)"
   ]
  },
  {
   "cell_type": "code",
   "execution_count": 12,
   "metadata": {},
   "outputs": [],
   "source": [
    "#Try the new algorithm on real data\n",
    "\n",
    "#import all data \n",
    "ind = pd.read_csv(\"/Users/jasontang/desktop/ind.csv\",index_col=False) \n",
    "cons = pd.read_csv(\"/Users/jasontang/desktop/cons.csv\") \n",
    "\n",
    "ind_list = ind.iloc[:,1:].values.tolist()\n",
    "cons_list = cons.iloc[:,1:].values.tolist()\n",
    "#len(ind_list[0])\n",
    "#len(cons_list[0])\n"
   ]
  },
  {
   "cell_type": "code",
   "execution_count": 81,
   "metadata": {},
   "outputs": [
    {
     "ename": "TypeError",
     "evalue": "object of type 'int' has no len()",
     "output_type": "error",
     "traceback": [
      "\u001b[0;31m---------------------------------------------------------------------------\u001b[0m",
      "\u001b[0;31mTypeError\u001b[0m                                 Traceback (most recent call last)",
      "\u001b[0;32m<ipython-input-81-c7c8d9c02ba0>\u001b[0m in \u001b[0;36m<module>\u001b[0;34m\u001b[0m\n\u001b[1;32m      1\u001b[0m \u001b[0;31m#IPF(ind_list,cons_list)\u001b[0m\u001b[0;34m\u001b[0m\u001b[0;34m\u001b[0m\u001b[0;34m\u001b[0m\u001b[0m\n\u001b[1;32m      2\u001b[0m \u001b[0;32mfor\u001b[0m \u001b[0mi\u001b[0m \u001b[0;32min\u001b[0m \u001b[0mrange\u001b[0m\u001b[0;34m(\u001b[0m\u001b[0mlen\u001b[0m\u001b[0;34m(\u001b[0m\u001b[0mcons_list\u001b[0m\u001b[0;34m)\u001b[0m\u001b[0;34m)\u001b[0m\u001b[0;34m:\u001b[0m\u001b[0;34m\u001b[0m\u001b[0;34m\u001b[0m\u001b[0m\n\u001b[0;32m----> 3\u001b[0;31m     \u001b[0mresult\u001b[0m \u001b[0;34m=\u001b[0m \u001b[0mIPF\u001b[0m\u001b[0;34m(\u001b[0m\u001b[0mind_list\u001b[0m\u001b[0;34m[\u001b[0m\u001b[0;36m0\u001b[0m\u001b[0;34m]\u001b[0m\u001b[0;34m,\u001b[0m\u001b[0mcons_list\u001b[0m\u001b[0;34m[\u001b[0m\u001b[0mi\u001b[0m\u001b[0;34m]\u001b[0m\u001b[0;34m)\u001b[0m\u001b[0;34m\u001b[0m\u001b[0;34m\u001b[0m\u001b[0m\n\u001b[0m\u001b[1;32m      4\u001b[0m     \u001b[0mprint\u001b[0m\u001b[0;34m(\u001b[0m\u001b[0mresult\u001b[0m\u001b[0;34m[\u001b[0m\u001b[0;36m1\u001b[0m\u001b[0;34m]\u001b[0m\u001b[0;34m)\u001b[0m\u001b[0;34m\u001b[0m\u001b[0;34m\u001b[0m\u001b[0m\n\u001b[1;32m      5\u001b[0m \u001b[0;31m#weight = [1]*len(IND_Agg[0])\u001b[0m\u001b[0;34m\u001b[0m\u001b[0;34m\u001b[0m\u001b[0;34m\u001b[0m\u001b[0m\n",
      "\u001b[0;32m<ipython-input-56-ddbeef6de071>\u001b[0m in \u001b[0;36mIPF\u001b[0;34m(X, Y)\u001b[0m\n\u001b[1;32m      5\u001b[0m \u001b[0;32mdef\u001b[0m \u001b[0mIPF\u001b[0m\u001b[0;34m(\u001b[0m\u001b[0mX\u001b[0m\u001b[0;34m,\u001b[0m\u001b[0mY\u001b[0m\u001b[0;34m)\u001b[0m\u001b[0;34m:\u001b[0m\u001b[0;34m\u001b[0m\u001b[0;34m\u001b[0m\u001b[0m\n\u001b[1;32m      6\u001b[0m \u001b[0;34m\u001b[0m\u001b[0m\n\u001b[0;32m----> 7\u001b[0;31m     \u001b[0mweight\u001b[0m \u001b[0;34m=\u001b[0m \u001b[0;34m[\u001b[0m\u001b[0;36m1\u001b[0m\u001b[0;34m]\u001b[0m\u001b[0;34m*\u001b[0m\u001b[0mlen\u001b[0m\u001b[0;34m(\u001b[0m\u001b[0mX\u001b[0m\u001b[0;34m[\u001b[0m\u001b[0;36m0\u001b[0m\u001b[0;34m]\u001b[0m\u001b[0;34m)\u001b[0m\u001b[0;34m\u001b[0m\u001b[0;34m\u001b[0m\u001b[0m\n\u001b[0m\u001b[1;32m      8\u001b[0m \u001b[0;34m\u001b[0m\u001b[0m\n\u001b[1;32m      9\u001b[0m     \u001b[0;32mfor\u001b[0m \u001b[0mk\u001b[0m \u001b[0;32min\u001b[0m \u001b[0mrange\u001b[0m\u001b[0;34m(\u001b[0m\u001b[0mlen\u001b[0m\u001b[0;34m(\u001b[0m\u001b[0mY\u001b[0m\u001b[0;34m)\u001b[0m\u001b[0;34m)\u001b[0m\u001b[0;34m:\u001b[0m\u001b[0;34m\u001b[0m\u001b[0;34m\u001b[0m\u001b[0m\n",
      "\u001b[0;31mTypeError\u001b[0m: object of type 'int' has no len()"
     ]
    }
   ],
   "source": [
    "#IPF(ind_list,cons_list)\n",
    "for i in range(len(cons_list)):\n",
    "    result = IPF(ind_list[0],cons_list[i])\n",
    "    print(result[1])\n",
    "#weight = [1]*len(IND_Agg[0])\n",
    "#np.multiply(weight,IND_Agg[len(CONS)])\n",
    "#weight"
   ]
  },
  {
   "cell_type": "code",
   "execution_count": 87,
   "metadata": {},
   "outputs": [
    {
     "data": {
      "text/plain": [
       "[71758.53356224195,\n",
       " 0.14435382126512378,\n",
       " 0.27117772394928347,\n",
       " 0.9992715955804892,\n",
       " 2806.980488319827,\n",
       " 1,\n",
       " 1,\n",
       " 1,\n",
       " 1,\n",
       " 1.1847353179323596,\n",
       " 2369.2891111059853,\n",
       " 668.7908288382919,\n",
       " 4.197097758047357]"
      ]
     },
     "execution_count": 87,
     "metadata": {},
     "output_type": "execute_result"
    }
   ],
   "source": [
    "result = IPF(ind_list,cons_list[0])\n",
    "result[1]\n"
   ]
  },
  {
   "cell_type": "code",
   "execution_count": 16,
   "metadata": {},
   "outputs": [],
   "source": [
    "#Return Interisation and expanded table based on the iteration with the smallest TAE\n"
   ]
  }
 ],
 "metadata": {
  "kernelspec": {
   "display_name": "Python 3",
   "language": "python",
   "name": "python3"
  },
  "language_info": {
   "codemirror_mode": {
    "name": "ipython",
    "version": 3
   },
   "file_extension": ".py",
   "mimetype": "text/x-python",
   "name": "python",
   "nbconvert_exporter": "python",
   "pygments_lexer": "ipython3",
   "version": "3.7.3"
  }
 },
 "nbformat": 4,
 "nbformat_minor": 2
}
